{
  "nbformat": 4,
  "nbformat_minor": 0,
  "metadata": {
    "colab": {
      "provenance": [],
      "authorship_tag": "ABX9TyNwFV/NcQesTmTPFq0zj5MU",
      "include_colab_link": true
    },
    "kernelspec": {
      "name": "python3",
      "display_name": "Python 3"
    },
    "language_info": {
      "name": "python"
    }
  },
  "cells": [
    {
      "cell_type": "markdown",
      "metadata": {
        "id": "view-in-github",
        "colab_type": "text"
      },
      "source": [
        "<a href=\"https://colab.research.google.com/github/CristianGZ302/Programacion-Basica-302-I/blob/main/ActLab%20302%20/ActLab1ActLab1.ipynb\" target=\"_parent\"><img src=\"https://colab.research.google.com/assets/colab-badge.svg\" alt=\"Open In Colab\"/></a>"
      ]
    },
    {
      "cell_type": "markdown",
      "source": [
        "Actividad de Laboratorio 1 Impresion de Mensajes"
      ],
      "metadata": {
        "id": "Bwzml0S7xjvH"
      }
    },
    {
      "cell_type": "markdown",
      "source": [
        "PB302_1.cpp Programa para Bienvenida"
      ],
      "metadata": {
        "id": "V4FIn66FmV3R"
      }
    },
    {
      "cell_type": "code",
      "execution_count": null,
      "metadata": {
        "colab": {
          "base_uri": "https://localhost:8080/"
        },
        "id": "g-cv3kE2ljDd",
        "outputId": "db196540-de94-44de-d1ca-c325b90268d4"
      },
      "outputs": [
        {
          "output_type": "stream",
          "name": "stdout",
          "text": [
            "Overwriting PB302_1.cpp\n"
          ]
        }
      ],
      "source": [
        "%%writefile PB302_1.cpp\n",
        "//Programa para imprimir mensaje de bienvenida\n",
        "//Creado por Cristian Alexis Gutierrez Zainz\n",
        "//Fecha: 15/Septiembre/2025\n",
        "//PB302_1.cpp\n",
        "#include <iostream>\n",
        "using namespace std;\n",
        "int main()\n",
        "{\n",
        "  cout<<\"Bienvenido Cristian a programacion Basica en C++\\n\";\n",
        "  cout<<\"Gracias por Programar en clase\";\n",
        "  return 0;\n",
        "}"
      ]
    },
    {
      "cell_type": "code",
      "source": [
        "!g++ PB302_1.cpp -o PB302_1\n",
        "!./PB302_1"
      ],
      "metadata": {
        "colab": {
          "base_uri": "https://localhost:8080/"
        },
        "id": "VkeIKhplpwmo",
        "outputId": "3f66dcf7-2fa9-4249-93f5-f7d2499426e5"
      },
      "execution_count": null,
      "outputs": [
        {
          "output_type": "stream",
          "name": "stdout",
          "text": [
            "Bienvenidos a programacion Basica en C++\n",
            "Gracias por Programar en clase"
          ]
        }
      ]
    },
    {
      "cell_type": "markdown",
      "source": [
        "PB302_2.cpp Programa para imprimir datos personales"
      ],
      "metadata": {
        "id": "sPWJL2nMqzKj"
      }
    },
    {
      "cell_type": "code",
      "source": [
        "%%writefile PB302_2.cpp\n",
        "//Programa para mostrar datos personales\n",
        "//Creado por Cristian Alexis Gutierrez Zainz\n",
        "//Fecha: 18/sep/25\n",
        "//PB302_2.cpp\n",
        "#include <iostream>\n",
        "using namespace std;\n",
        "int main()\n",
        "{\n",
        "  char nombre[10]= \"Cristian\";\n",
        "  char paterno[10]= \"Gutierrez\";\n",
        "  char materno[10]= \"Zainz\";\n",
        "  int edad=15;\n",
        "  char direccion[40]=\"Felipe Angeles\";\n",
        "  char fechanac[15]=\"27/10/2009\";\n",
        "  char ciudadnac[10]=\"Juarez\";\n",
        "  cout<<nombre<<\"\\n\";\n",
        "  cout<<paterno<<\"\\nTu apellido paterno es:\\n\";\n",
        "  cout<<materno<<\"\\nTu apellido materno es:\\n\";\n",
        "  cout<<edad<<\"\\nTu edad es:\\n\";\n",
        "  cout<<direccion<<\"\\nTu direccion es:\\n\";\n",
        "  cout<<fechanac<<\"\\nTu fecha de nacimiento es:\\n\";\n",
        "  cout<<ciudadnac<<\"\\nTu ciudad de nacimiento es:\\n\";\n",
        "  return 0;\n",
        "}"
      ],
      "metadata": {
        "colab": {
          "base_uri": "https://localhost:8080/"
        },
        "id": "ApwSzvqEq8_T",
        "outputId": "7d984407-e65c-4b7a-fbcc-e298396f4126"
      },
      "execution_count": 33,
      "outputs": [
        {
          "output_type": "stream",
          "name": "stdout",
          "text": [
            "Overwriting PB302_2.cpp\n"
          ]
        }
      ]
    },
    {
      "cell_type": "code",
      "source": [
        "!g++ PB302_2.cpp -o PB302_2.exe\n",
        "!./PB302_2.exe"
      ],
      "metadata": {
        "colab": {
          "base_uri": "https://localhost:8080/"
        },
        "id": "ZAf9S-R-wkZq",
        "outputId": "ac0e328b-97a1-49fd-f92b-bb780026d1ef"
      },
      "execution_count": 34,
      "outputs": [
        {
          "output_type": "stream",
          "name": "stdout",
          "text": [
            "Cristian\n",
            "Gutierrez\n",
            "Tu apellido paterno es:\n",
            "Zainz\n",
            "Tu apellido materno es:\n",
            "15\n",
            "Tu edad es:\n",
            "Felipe Angeles\n",
            "Tu direccion es:\n",
            "27/10/2009\n",
            "Tu fecha de nacimiento es:\n",
            "Juarez\n",
            "Tu ciudad de nacimiento es:\n"
          ]
        }
      ]
    }
  ]
}