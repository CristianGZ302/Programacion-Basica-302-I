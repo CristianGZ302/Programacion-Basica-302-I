{
  "nbformat": 4,
  "nbformat_minor": 0,
  "metadata": {
    "colab": {
      "provenance": [],
      "authorship_tag": "ABX9TyOs8VQfC7yyWvxmjNJRc0BI",
      "include_colab_link": true
    },
    "kernelspec": {
      "name": "python3",
      "display_name": "Python 3"
    },
    "language_info": {
      "name": "python"
    }
  },
  "cells": [
    {
      "cell_type": "markdown",
      "metadata": {
        "id": "view-in-github",
        "colab_type": "text"
      },
      "source": [
        "<a href=\"https://colab.research.google.com/github/CristianGZ302/Programacion-Basica-302-I/blob/main/ActLab%20302%20/ActLab1ActLab1.ipynb\" target=\"_parent\"><img src=\"https://colab.research.google.com/assets/colab-badge.svg\" alt=\"Open In Colab\"/></a>"
      ]
    },
    {
      "cell_type": "markdown",
      "source": [
        "Actividad de Laboratorio 1 Impresion de Mensajes"
      ],
      "metadata": {
        "id": "Bwzml0S7xjvH"
      }
    },
    {
      "cell_type": "markdown",
      "source": [
        "PB302_1.cpp Programa para Bienvenida"
      ],
      "metadata": {
        "id": "V4FIn66FmV3R"
      }
    },
    {
      "cell_type": "code",
      "execution_count": null,
      "metadata": {
        "colab": {
          "base_uri": "https://localhost:8080/"
        },
        "id": "g-cv3kE2ljDd",
        "outputId": "db196540-de94-44de-d1ca-c325b90268d4"
      },
      "outputs": [
        {
          "output_type": "stream",
          "name": "stdout",
          "text": [
            "Overwriting PB302_1.cpp\n"
          ]
        }
      ],
      "source": [
        "%%writefile PB302_1.cpp\n",
        "//Programa para imprimir mensaje de bienvenida\n",
        "//Creado por Cristian Alexis Gutierrez Zainz\n",
        "//Fecha: 15/Septiembre/2025\n",
        "//PB302_1.cpp\n",
        "#include <iostream>\n",
        "using namespace std;\n",
        "int main()\n",
        "{\n",
        "  cout<<\"Bienvenido Cristian a programacion Basica en C++\\n\";\n",
        "  cout<<\"Gracias por Programar en clase\";\n",
        "  return 0;\n",
        "}"
      ]
    },
    {
      "cell_type": "code",
      "source": [
        "!g++ PB302_1.cpp -o PB302_1\n",
        "!./PB302_1"
      ],
      "metadata": {
        "colab": {
          "base_uri": "https://localhost:8080/"
        },
        "id": "VkeIKhplpwmo",
        "outputId": "3f66dcf7-2fa9-4249-93f5-f7d2499426e5"
      },
      "execution_count": null,
      "outputs": [
        {
          "output_type": "stream",
          "name": "stdout",
          "text": [
            "Bienvenidos a programacion Basica en C++\n",
            "Gracias por Programar en clase"
          ]
        }
      ]
    },
    {
      "cell_type": "markdown",
      "source": [
        "PB302_2.cpp Programa para imprimir datos personales"
      ],
      "metadata": {
        "id": "sPWJL2nMqzKj"
      }
    },
    {
      "cell_type": "code",
      "source": [
        "%%writefile PB302_2.cpp\n",
        "//Programa para mostrar datos personales\n",
        "//Creado por Cristian Alexis Gutierrez Zainz\n",
        "//Fecha: 18/sep/25\n",
        "//PB302_2.cpp\n",
        "#include <iostream>\n",
        "using namespace std;\n",
        "int main()\n",
        "{\n",
        "  char nombre[20]= \"Cristian Alexis\";\n",
        "  char paterno[20]= \"Gutierrez\";\n",
        "  char materno[20]= \"Zainz\";\n",
        "  int edad= 15;\n",
        "  char direccion[40]= \"Felipe Angeles\";\n",
        "  char fechanac[20]= \"27/10/2009\";\n",
        "  char ciudadnac[10]= \"Juarez\";\n",
        "\n",
        "  cout<< \"Tu nombre completo es:\"<<nombre<<\"\"<<paterno<<\"\"<<materno<<\n",
        "\"\\n\";\n",
        "  cout<< \"Tu nombre es: \" <<nombre<< \"\\n\";\n",
        "  cout<< \"Tu apellido paterno es: \" <<paterno<< \"\\n\";\n",
        "  cout<< \"Tu apellido materno es: \" <<materno<< \"\\n\";\n",
        "  cout<< \"Tu edad es: \" <<edad<< \"\\n\";\n",
        "  cout<< \"Tu direccion es: \" <<direccion<< \"\\n\";\n",
        "  cout<< \"Tu fecha de nacimiento es: \" <<fechanac<< \"\\n\";\n",
        "  cout<< \"Tu ciudad de nacimiento es: \" <<ciudadnac<< \"\\n\";\n",
        "  return 0;\n",
        "}"
      ],
      "metadata": {
        "colab": {
          "base_uri": "https://localhost:8080/"
        },
        "id": "ApwSzvqEq8_T",
        "outputId": "d1de0d63-9f44-4302-8d8d-f5658b8ff9d4"
      },
      "execution_count": 39,
      "outputs": [
        {
          "output_type": "stream",
          "name": "stdout",
          "text": [
            "Overwriting PB302_2.cpp\n"
          ]
        }
      ]
    },
    {
      "cell_type": "code",
      "source": [
        "!g++ PB302_2.cpp -o PB302_2.exe\n",
        "!./PB302_2.exe"
      ],
      "metadata": {
        "colab": {
          "base_uri": "https://localhost:8080/"
        },
        "id": "ZAf9S-R-wkZq",
        "outputId": "26db7cbe-0947-415b-f485-5f4f62b9a5d6"
      },
      "execution_count": 40,
      "outputs": [
        {
          "output_type": "stream",
          "name": "stdout",
          "text": [
            "Tu nombre completo es:Cristian AlexisGutierrezZainz\n",
            "Tu nombre es: Cristian Alexis\n",
            "Tu apellido paterno es: Gutierrez\n",
            "Tu apellido materno es: Zainz\n",
            "Tu edad es: 15\n",
            "Tu direccion es: Felipe Angeles\n",
            "Tu fecha de nacimiento es: 27/10/2009\n",
            "Tu ciudad de nacimiento es: Juarez\n"
          ]
        }
      ]
    }
  ]
}